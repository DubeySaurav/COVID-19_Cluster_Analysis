{
 "cells": [
  {
   "cell_type": "markdown",
   "metadata": {},
   "source": [
    "## 1. Import Data and Libraries"
   ]
  },
  {
   "cell_type": "code",
   "execution_count": 56,
   "metadata": {},
   "outputs": [],
   "source": [
    "import pandas as pd\n",
    "import numpy as np\n",
    "from sklearn.preprocessing import StandardScaler\n",
    "import scipy.cluster.hierarchy as shc\n",
    "import matplotlib.pyplot as plt\n",
    "%matplotlib inline\n",
    "import seaborn as sns\n",
    "from sklearn.cluster import KMeans\n",
    "from sklearn.cluster import AgglomerativeClustering\n",
    "from sklearn.metrics import silhouette_score, calinski_harabasz_score, davies_bouldin_score\n",
    "\n",
    "import warnings\n",
    "warnings.simplefilter(action='ignore')"
   ]
  },
  {
   "cell_type": "code",
   "execution_count": 2,
   "metadata": {},
   "outputs": [],
   "source": [
    "df_covid = pd.read_csv(\"World_Covid19_cases.csv\")\n",
    "df_covid = df_covid.drop(\"Number\", axis = 1)"
   ]
  },
  {
   "cell_type": "code",
   "execution_count": 3,
   "metadata": {},
   "outputs": [
    {
     "data": {
      "text/html": [
       "<div>\n",
       "<style scoped>\n",
       "    .dataframe tbody tr th:only-of-type {\n",
       "        vertical-align: middle;\n",
       "    }\n",
       "\n",
       "    .dataframe tbody tr th {\n",
       "        vertical-align: top;\n",
       "    }\n",
       "\n",
       "    .dataframe thead th {\n",
       "        text-align: right;\n",
       "    }\n",
       "</style>\n",
       "<table border=\"1\" class=\"dataframe\">\n",
       "  <thead>\n",
       "    <tr style=\"text-align: right;\">\n",
       "      <th></th>\n",
       "      <th>Country</th>\n",
       "      <th>Total Cases</th>\n",
       "      <th>New Cases</th>\n",
       "      <th>Total Deaths</th>\n",
       "      <th>New Deaths</th>\n",
       "      <th>Total Recovered</th>\n",
       "      <th>Active Cases</th>\n",
       "      <th>Critical Cases</th>\n",
       "      <th>Tot Cases/1M pop</th>\n",
       "      <th>Deaths/1M pop</th>\n",
       "      <th>Total Tests</th>\n",
       "      <th>Tests/1M pop</th>\n",
       "      <th>Population</th>\n",
       "    </tr>\n",
       "  </thead>\n",
       "  <tbody>\n",
       "    <tr>\n",
       "      <th>0</th>\n",
       "      <td>USA</td>\n",
       "      <td>3,893,949</td>\n",
       "      <td>60,678</td>\n",
       "      <td>143,263</td>\n",
       "      <td>386.0</td>\n",
       "      <td>1,802,110</td>\n",
       "      <td>1,948,576</td>\n",
       "      <td>16,616</td>\n",
       "      <td>11,761</td>\n",
       "      <td>433</td>\n",
       "      <td>48,324,182</td>\n",
       "      <td>145,951</td>\n",
       "      <td>331,097,557</td>\n",
       "    </tr>\n",
       "    <tr>\n",
       "      <th>1</th>\n",
       "      <td>Brazil</td>\n",
       "      <td>2,098,389</td>\n",
       "      <td>23,143</td>\n",
       "      <td>79,488</td>\n",
       "      <td>671.0</td>\n",
       "      <td>1,371,229</td>\n",
       "      <td>647,672</td>\n",
       "      <td>8,318</td>\n",
       "      <td>9,869</td>\n",
       "      <td>374</td>\n",
       "      <td>4,911,063</td>\n",
       "      <td>23,096</td>\n",
       "      <td>212,632,374</td>\n",
       "    </tr>\n",
       "    <tr>\n",
       "      <th>2</th>\n",
       "      <td>India</td>\n",
       "      <td>1,118,107</td>\n",
       "      <td>40,243</td>\n",
       "      <td>27,503</td>\n",
       "      <td>675.0</td>\n",
       "      <td>700,399</td>\n",
       "      <td>390,205</td>\n",
       "      <td>8,944</td>\n",
       "      <td>810</td>\n",
       "      <td>20</td>\n",
       "      <td>13,791,869</td>\n",
       "      <td>9,989</td>\n",
       "      <td>1,380,641,231</td>\n",
       "    </tr>\n",
       "    <tr>\n",
       "      <th>3</th>\n",
       "      <td>Russia</td>\n",
       "      <td>771,546</td>\n",
       "      <td>6,109</td>\n",
       "      <td>12,342</td>\n",
       "      <td>95.0</td>\n",
       "      <td>550,344</td>\n",
       "      <td>208,860</td>\n",
       "      <td>2,300</td>\n",
       "      <td>5,287</td>\n",
       "      <td>85</td>\n",
       "      <td>24,991,740</td>\n",
       "      <td>171,249</td>\n",
       "      <td>145,937,686</td>\n",
       "    </tr>\n",
       "    <tr>\n",
       "      <th>4</th>\n",
       "      <td>South Africa</td>\n",
       "      <td>364,328</td>\n",
       "      <td>13,449</td>\n",
       "      <td>5,033</td>\n",
       "      <td>85.0</td>\n",
       "      <td>191,059</td>\n",
       "      <td>168,236</td>\n",
       "      <td>539</td>\n",
       "      <td>6,139</td>\n",
       "      <td>85</td>\n",
       "      <td>2,471,747</td>\n",
       "      <td>41,652</td>\n",
       "      <td>59,342,751</td>\n",
       "    </tr>\n",
       "    <tr>\n",
       "      <th>...</th>\n",
       "      <td>...</td>\n",
       "      <td>...</td>\n",
       "      <td>...</td>\n",
       "      <td>...</td>\n",
       "      <td>...</td>\n",
       "      <td>...</td>\n",
       "      <td>...</td>\n",
       "      <td>...</td>\n",
       "      <td>...</td>\n",
       "      <td>...</td>\n",
       "      <td>...</td>\n",
       "      <td>...</td>\n",
       "      <td>...</td>\n",
       "    </tr>\n",
       "    <tr>\n",
       "      <th>209</th>\n",
       "      <td>Caribbean Netherlands</td>\n",
       "      <td>10</td>\n",
       "      <td>NaN</td>\n",
       "      <td>NaN</td>\n",
       "      <td>NaN</td>\n",
       "      <td>7</td>\n",
       "      <td>3</td>\n",
       "      <td>NaN</td>\n",
       "      <td>381</td>\n",
       "      <td>NaN</td>\n",
       "      <td>424</td>\n",
       "      <td>16,162</td>\n",
       "      <td>26,235</td>\n",
       "    </tr>\n",
       "    <tr>\n",
       "      <th>210</th>\n",
       "      <td>British Virgin Islands</td>\n",
       "      <td>8</td>\n",
       "      <td>NaN</td>\n",
       "      <td>1</td>\n",
       "      <td>NaN</td>\n",
       "      <td>7</td>\n",
       "      <td>0</td>\n",
       "      <td>NaN</td>\n",
       "      <td>265</td>\n",
       "      <td>33</td>\n",
       "      <td>439</td>\n",
       "      <td>14,517</td>\n",
       "      <td>30,241</td>\n",
       "    </tr>\n",
       "    <tr>\n",
       "      <th>211</th>\n",
       "      <td>St. Barth</td>\n",
       "      <td>6</td>\n",
       "      <td>NaN</td>\n",
       "      <td>NaN</td>\n",
       "      <td>NaN</td>\n",
       "      <td>6</td>\n",
       "      <td>0</td>\n",
       "      <td>NaN</td>\n",
       "      <td>607</td>\n",
       "      <td>NaN</td>\n",
       "      <td>897</td>\n",
       "      <td>90,799</td>\n",
       "      <td>9,879</td>\n",
       "    </tr>\n",
       "    <tr>\n",
       "      <th>212</th>\n",
       "      <td>Saint Pierre Miquelon</td>\n",
       "      <td>4</td>\n",
       "      <td>NaN</td>\n",
       "      <td>NaN</td>\n",
       "      <td>NaN</td>\n",
       "      <td>1</td>\n",
       "      <td>3</td>\n",
       "      <td>NaN</td>\n",
       "      <td>691</td>\n",
       "      <td>NaN</td>\n",
       "      <td>NaN</td>\n",
       "      <td>NaN</td>\n",
       "      <td>5,792</td>\n",
       "    </tr>\n",
       "    <tr>\n",
       "      <th>213</th>\n",
       "      <td>NaN</td>\n",
       "      <td>NaN</td>\n",
       "      <td>NaN</td>\n",
       "      <td>NaN</td>\n",
       "      <td>NaN</td>\n",
       "      <td>NaN</td>\n",
       "      <td>NaN</td>\n",
       "      <td>NaN</td>\n",
       "      <td>NaN</td>\n",
       "      <td>NaN</td>\n",
       "      <td>NaN</td>\n",
       "      <td>NaN</td>\n",
       "      <td>NaN</td>\n",
       "    </tr>\n",
       "  </tbody>\n",
       "</table>\n",
       "<p>214 rows × 13 columns</p>\n",
       "</div>"
      ],
      "text/plain": [
       "                    Country Total Cases New Cases Total Deaths  New Deaths  \\\n",
       "0                       USA   3,893,949    60,678      143,263       386.0   \n",
       "1                    Brazil   2,098,389    23,143       79,488       671.0   \n",
       "2                     India   1,118,107    40,243       27,503       675.0   \n",
       "3                    Russia     771,546     6,109       12,342        95.0   \n",
       "4              South Africa     364,328    13,449        5,033        85.0   \n",
       "..                      ...         ...       ...          ...         ...   \n",
       "209   Caribbean Netherlands          10       NaN          NaN         NaN   \n",
       "210  British Virgin Islands           8       NaN            1         NaN   \n",
       "211               St. Barth           6       NaN          NaN         NaN   \n",
       "212   Saint Pierre Miquelon           4       NaN          NaN         NaN   \n",
       "213                     NaN         NaN       NaN          NaN         NaN   \n",
       "\n",
       "    Total Recovered Active Cases Critical Cases Tot Cases/1M pop  \\\n",
       "0         1,802,110    1,948,576         16,616           11,761   \n",
       "1         1,371,229      647,672          8,318            9,869   \n",
       "2           700,399      390,205          8,944              810   \n",
       "3           550,344      208,860          2,300            5,287   \n",
       "4           191,059      168,236            539            6,139   \n",
       "..              ...          ...            ...              ...   \n",
       "209               7            3            NaN              381   \n",
       "210               7            0            NaN              265   \n",
       "211               6            0            NaN              607   \n",
       "212               1            3            NaN              691   \n",
       "213             NaN          NaN            NaN              NaN   \n",
       "\n",
       "    Deaths/1M pop Total Tests Tests/1M pop     Population  \n",
       "0             433  48,324,182      145,951    331,097,557  \n",
       "1             374   4,911,063       23,096    212,632,374  \n",
       "2              20  13,791,869        9,989  1,380,641,231  \n",
       "3              85  24,991,740      171,249    145,937,686  \n",
       "4              85   2,471,747       41,652     59,342,751  \n",
       "..            ...         ...          ...            ...  \n",
       "209           NaN         424       16,162         26,235  \n",
       "210            33         439       14,517         30,241  \n",
       "211           NaN         897       90,799          9,879  \n",
       "212           NaN         NaN          NaN          5,792  \n",
       "213           NaN         NaN          NaN            NaN  \n",
       "\n",
       "[214 rows x 13 columns]"
      ]
     },
     "execution_count": 3,
     "metadata": {},
     "output_type": "execute_result"
    }
   ],
   "source": [
    "df_covid"
   ]
  },
  {
   "cell_type": "markdown",
   "metadata": {},
   "source": [
    "## 2. Perform the necessary preprocessing"
   ]
  },
  {
   "cell_type": "code",
   "execution_count": 4,
   "metadata": {},
   "outputs": [],
   "source": [
    "columns =[\"Country\", \"Total Cases\",\"Total Deaths\", \"Total Recovered\", \"Active Cases\", \"Critical Cases\", \"Total Tests\", \"Population\"]\n",
    "\n",
    "df_covid_ = df_covid[columns]\n"
   ]
  },
  {
   "cell_type": "code",
   "execution_count": 5,
   "metadata": {},
   "outputs": [],
   "source": [
    "df_covid_[\"Total Cases\"] = df_covid_[\"Total Cases\"].str.replace(\",\",\"\")\n",
    "df_covid_[\"Total Deaths\"] = df_covid_[\"Total Deaths\"].str.replace(\",\",\"\")\n",
    "df_covid_[\"Total Recovered\"] = df_covid_[\"Total Recovered\"].str.replace(\",\",\"\")\n",
    "df_covid_[\"Active Cases\"] = df_covid_[\"Active Cases\"].str.replace(\",\",\"\")\n",
    "df_covid_[\"Critical Cases\"] = df_covid_[\"Critical Cases\"].str.replace(\",\",\"\")\n",
    "df_covid_[\"Total Tests\"] = df_covid_[\"Total Tests\"].str.replace(\",\",\"\")\n",
    "df_covid_[\"Population\"] = df_covid_[\"Population\"].str.replace(\",\",\"\")"
   ]
  },
  {
   "cell_type": "code",
   "execution_count": 6,
   "metadata": {},
   "outputs": [],
   "source": [
    "df_c = pd.DataFrame()\n",
    "df_c[\"Country\"] = df_covid_[\"Country\"]"
   ]
  },
  {
   "cell_type": "code",
   "execution_count": 7,
   "metadata": {},
   "outputs": [],
   "source": [
    "df_covid_ = df_covid_.drop(\"Country\", axis=1)"
   ]
  },
  {
   "cell_type": "code",
   "execution_count": 8,
   "metadata": {},
   "outputs": [],
   "source": [
    "df_covid_ = df_covid_.apply(pd.to_numeric,errors='coerce')"
   ]
  },
  {
   "cell_type": "code",
   "execution_count": 9,
   "metadata": {},
   "outputs": [],
   "source": [
    "df_covid_.insert(loc=0,column= \"Country\", value=df_c)"
   ]
  },
  {
   "cell_type": "code",
   "execution_count": 10,
   "metadata": {},
   "outputs": [],
   "source": [
    "df_covid_[\"Total Deaths\"].fillna(0, inplace = True) \n",
    "df_covid_[\"Critical Cases\"].fillna(0, inplace = True) "
   ]
  },
  {
   "cell_type": "code",
   "execution_count": 11,
   "metadata": {},
   "outputs": [
    {
     "data": {
      "text/html": [
       "<div>\n",
       "<style scoped>\n",
       "    .dataframe tbody tr th:only-of-type {\n",
       "        vertical-align: middle;\n",
       "    }\n",
       "\n",
       "    .dataframe tbody tr th {\n",
       "        vertical-align: top;\n",
       "    }\n",
       "\n",
       "    .dataframe thead th {\n",
       "        text-align: right;\n",
       "    }\n",
       "</style>\n",
       "<table border=\"1\" class=\"dataframe\">\n",
       "  <thead>\n",
       "    <tr style=\"text-align: right;\">\n",
       "      <th></th>\n",
       "      <th>Country</th>\n",
       "      <th>Total Cases</th>\n",
       "      <th>Total Deaths</th>\n",
       "      <th>Total Recovered</th>\n",
       "      <th>Active Cases</th>\n",
       "      <th>Critical Cases</th>\n",
       "      <th>Total Tests</th>\n",
       "      <th>Population</th>\n",
       "    </tr>\n",
       "  </thead>\n",
       "  <tbody>\n",
       "    <tr>\n",
       "      <th>0</th>\n",
       "      <td>USA</td>\n",
       "      <td>3893949.0</td>\n",
       "      <td>143263.0</td>\n",
       "      <td>1802110.0</td>\n",
       "      <td>1948576.0</td>\n",
       "      <td>16616.0</td>\n",
       "      <td>48324182.0</td>\n",
       "      <td>3.310976e+08</td>\n",
       "    </tr>\n",
       "    <tr>\n",
       "      <th>1</th>\n",
       "      <td>Brazil</td>\n",
       "      <td>2098389.0</td>\n",
       "      <td>79488.0</td>\n",
       "      <td>1371229.0</td>\n",
       "      <td>647672.0</td>\n",
       "      <td>8318.0</td>\n",
       "      <td>4911063.0</td>\n",
       "      <td>2.126324e+08</td>\n",
       "    </tr>\n",
       "    <tr>\n",
       "      <th>2</th>\n",
       "      <td>India</td>\n",
       "      <td>1118107.0</td>\n",
       "      <td>27503.0</td>\n",
       "      <td>700399.0</td>\n",
       "      <td>390205.0</td>\n",
       "      <td>8944.0</td>\n",
       "      <td>13791869.0</td>\n",
       "      <td>1.380641e+09</td>\n",
       "    </tr>\n",
       "    <tr>\n",
       "      <th>3</th>\n",
       "      <td>Russia</td>\n",
       "      <td>771546.0</td>\n",
       "      <td>12342.0</td>\n",
       "      <td>550344.0</td>\n",
       "      <td>208860.0</td>\n",
       "      <td>2300.0</td>\n",
       "      <td>24991740.0</td>\n",
       "      <td>1.459377e+08</td>\n",
       "    </tr>\n",
       "    <tr>\n",
       "      <th>4</th>\n",
       "      <td>South Africa</td>\n",
       "      <td>364328.0</td>\n",
       "      <td>5033.0</td>\n",
       "      <td>191059.0</td>\n",
       "      <td>168236.0</td>\n",
       "      <td>539.0</td>\n",
       "      <td>2471747.0</td>\n",
       "      <td>5.934275e+07</td>\n",
       "    </tr>\n",
       "    <tr>\n",
       "      <th>...</th>\n",
       "      <td>...</td>\n",
       "      <td>...</td>\n",
       "      <td>...</td>\n",
       "      <td>...</td>\n",
       "      <td>...</td>\n",
       "      <td>...</td>\n",
       "      <td>...</td>\n",
       "      <td>...</td>\n",
       "    </tr>\n",
       "    <tr>\n",
       "      <th>209</th>\n",
       "      <td>Caribbean Netherlands</td>\n",
       "      <td>10.0</td>\n",
       "      <td>0.0</td>\n",
       "      <td>7.0</td>\n",
       "      <td>3.0</td>\n",
       "      <td>0.0</td>\n",
       "      <td>424.0</td>\n",
       "      <td>2.623500e+04</td>\n",
       "    </tr>\n",
       "    <tr>\n",
       "      <th>210</th>\n",
       "      <td>British Virgin Islands</td>\n",
       "      <td>8.0</td>\n",
       "      <td>1.0</td>\n",
       "      <td>7.0</td>\n",
       "      <td>0.0</td>\n",
       "      <td>0.0</td>\n",
       "      <td>439.0</td>\n",
       "      <td>3.024100e+04</td>\n",
       "    </tr>\n",
       "    <tr>\n",
       "      <th>211</th>\n",
       "      <td>St. Barth</td>\n",
       "      <td>6.0</td>\n",
       "      <td>0.0</td>\n",
       "      <td>6.0</td>\n",
       "      <td>0.0</td>\n",
       "      <td>0.0</td>\n",
       "      <td>897.0</td>\n",
       "      <td>9.879000e+03</td>\n",
       "    </tr>\n",
       "    <tr>\n",
       "      <th>212</th>\n",
       "      <td>Saint Pierre Miquelon</td>\n",
       "      <td>4.0</td>\n",
       "      <td>0.0</td>\n",
       "      <td>1.0</td>\n",
       "      <td>3.0</td>\n",
       "      <td>0.0</td>\n",
       "      <td>NaN</td>\n",
       "      <td>5.792000e+03</td>\n",
       "    </tr>\n",
       "    <tr>\n",
       "      <th>213</th>\n",
       "      <td>NaN</td>\n",
       "      <td>NaN</td>\n",
       "      <td>0.0</td>\n",
       "      <td>NaN</td>\n",
       "      <td>NaN</td>\n",
       "      <td>0.0</td>\n",
       "      <td>NaN</td>\n",
       "      <td>NaN</td>\n",
       "    </tr>\n",
       "  </tbody>\n",
       "</table>\n",
       "<p>214 rows × 8 columns</p>\n",
       "</div>"
      ],
      "text/plain": [
       "                    Country  Total Cases  Total Deaths  Total Recovered  \\\n",
       "0                       USA    3893949.0      143263.0        1802110.0   \n",
       "1                    Brazil    2098389.0       79488.0        1371229.0   \n",
       "2                     India    1118107.0       27503.0         700399.0   \n",
       "3                    Russia     771546.0       12342.0         550344.0   \n",
       "4              South Africa     364328.0        5033.0         191059.0   \n",
       "..                      ...          ...           ...              ...   \n",
       "209   Caribbean Netherlands         10.0           0.0              7.0   \n",
       "210  British Virgin Islands          8.0           1.0              7.0   \n",
       "211               St. Barth          6.0           0.0              6.0   \n",
       "212   Saint Pierre Miquelon          4.0           0.0              1.0   \n",
       "213                     NaN          NaN           0.0              NaN   \n",
       "\n",
       "     Active Cases  Critical Cases  Total Tests    Population  \n",
       "0       1948576.0         16616.0   48324182.0  3.310976e+08  \n",
       "1        647672.0          8318.0    4911063.0  2.126324e+08  \n",
       "2        390205.0          8944.0   13791869.0  1.380641e+09  \n",
       "3        208860.0          2300.0   24991740.0  1.459377e+08  \n",
       "4        168236.0           539.0    2471747.0  5.934275e+07  \n",
       "..            ...             ...          ...           ...  \n",
       "209           3.0             0.0        424.0  2.623500e+04  \n",
       "210           0.0             0.0        439.0  3.024100e+04  \n",
       "211           0.0             0.0        897.0  9.879000e+03  \n",
       "212           3.0             0.0          NaN  5.792000e+03  \n",
       "213           NaN             0.0          NaN           NaN  \n",
       "\n",
       "[214 rows x 8 columns]"
      ]
     },
     "execution_count": 11,
     "metadata": {},
     "output_type": "execute_result"
    }
   ],
   "source": [
    "df_covid_"
   ]
  },
  {
   "cell_type": "code",
   "execution_count": 12,
   "metadata": {},
   "outputs": [],
   "source": [
    "df_covid_ = df_covid_.dropna()"
   ]
  },
  {
   "cell_type": "code",
   "execution_count": 13,
   "metadata": {},
   "outputs": [
    {
     "data": {
      "text/plain": [
       "Country            0\n",
       "Total Cases        0\n",
       "Total Deaths       0\n",
       "Total Recovered    0\n",
       "Active Cases       0\n",
       "Critical Cases     0\n",
       "Total Tests        0\n",
       "Population         0\n",
       "dtype: int64"
      ]
     },
     "execution_count": 13,
     "metadata": {},
     "output_type": "execute_result"
    }
   ],
   "source": [
    "df_covid_.isnull().sum()"
   ]
  },
  {
   "cell_type": "code",
   "execution_count": 14,
   "metadata": {},
   "outputs": [
    {
     "data": {
      "text/plain": [
       "(194, 8)"
      ]
     },
     "execution_count": 14,
     "metadata": {},
     "output_type": "execute_result"
    }
   ],
   "source": [
    "df_covid_.shape"
   ]
  },
  {
   "cell_type": "code",
   "execution_count": 15,
   "metadata": {},
   "outputs": [
    {
     "data": {
      "text/plain": [
       "Country             object\n",
       "Total Cases        float64\n",
       "Total Deaths       float64\n",
       "Total Recovered    float64\n",
       "Active Cases       float64\n",
       "Critical Cases     float64\n",
       "Total Tests        float64\n",
       "Population         float64\n",
       "dtype: object"
      ]
     },
     "execution_count": 15,
     "metadata": {},
     "output_type": "execute_result"
    }
   ],
   "source": [
    "df_covid_.dtypes"
   ]
  },
  {
   "cell_type": "code",
   "execution_count": 16,
   "metadata": {},
   "outputs": [],
   "source": [
    "df_covid_[\"Pop_ML\"] = df_covid_[\"Population\"]/1000000\n",
    "\n",
    "df_covid_[\"Mortality_rate\"] = df_covid_[\"Total Deaths\"]/df_covid_[\"Total Cases\"]\n",
    "df_covid_[\"Cases_per_ML\"] = df_covid_[\"Total Cases\"]/df_covid_[\"Pop_ML\"]\n",
    "df_covid_[\"Deaths_per_ML\"] = df_covid_[\"Total Deaths\"]/df_covid_[\"Pop_ML\"]\n",
    "df_covid_[\"Recovered_per_ML\"] = df_covid_[\"Total Recovered\"]/df_covid_[\"Pop_ML\"]\n",
    "df_covid_[\"Active_per_ML\"] = df_covid_[\"Active Cases\"]/df_covid_[\"Pop_ML\"]\n",
    "df_covid_[\"Critical_per_ML\"] = df_covid_[\"Critical Cases\"]/df_covid_[\"Pop_ML\"]\n",
    "df_covid_[\"Tests_per_ML\"] = df_covid_[\"Total Tests\"]/df_covid_[\"Pop_ML\"]"
   ]
  },
  {
   "cell_type": "code",
   "execution_count": 17,
   "metadata": {},
   "outputs": [],
   "source": [
    "cols =[\"Country\", \"Mortality_rate\", \"Cases_per_ML\", \"Deaths_per_ML\", \"Recovered_per_ML\",\"Active_per_ML\", \"Critical_per_ML\", \"Tests_per_ML\"]\n",
    "\n",
    "df_covid_final = df_covid_[cols]\n",
    "\n",
    "\n"
   ]
  },
  {
   "cell_type": "code",
   "execution_count": 18,
   "metadata": {},
   "outputs": [
    {
     "data": {
      "text/html": [
       "<div>\n",
       "<style scoped>\n",
       "    .dataframe tbody tr th:only-of-type {\n",
       "        vertical-align: middle;\n",
       "    }\n",
       "\n",
       "    .dataframe tbody tr th {\n",
       "        vertical-align: top;\n",
       "    }\n",
       "\n",
       "    .dataframe thead th {\n",
       "        text-align: right;\n",
       "    }\n",
       "</style>\n",
       "<table border=\"1\" class=\"dataframe\">\n",
       "  <thead>\n",
       "    <tr style=\"text-align: right;\">\n",
       "      <th></th>\n",
       "      <th>Country</th>\n",
       "      <th>Mortality_rate</th>\n",
       "      <th>Cases_per_ML</th>\n",
       "      <th>Deaths_per_ML</th>\n",
       "      <th>Recovered_per_ML</th>\n",
       "      <th>Active_per_ML</th>\n",
       "      <th>Critical_per_ML</th>\n",
       "      <th>Tests_per_ML</th>\n",
       "    </tr>\n",
       "  </thead>\n",
       "  <tbody>\n",
       "    <tr>\n",
       "      <th>0</th>\n",
       "      <td>USA</td>\n",
       "      <td>0.036791</td>\n",
       "      <td>11760.730086</td>\n",
       "      <td>432.691202</td>\n",
       "      <td>5442.836898</td>\n",
       "      <td>5885.201986</td>\n",
       "      <td>50.184605</td>\n",
       "      <td>145951.490666</td>\n",
       "    </tr>\n",
       "    <tr>\n",
       "      <th>1</th>\n",
       "      <td>Brazil</td>\n",
       "      <td>0.037880</td>\n",
       "      <td>9868.624239</td>\n",
       "      <td>373.828305</td>\n",
       "      <td>6448.825145</td>\n",
       "      <td>3045.970789</td>\n",
       "      <td>39.119161</td>\n",
       "      <td>23096.497056</td>\n",
       "    </tr>\n",
       "    <tr>\n",
       "      <th>2</th>\n",
       "      <td>India</td>\n",
       "      <td>0.024598</td>\n",
       "      <td>809.846161</td>\n",
       "      <td>19.920454</td>\n",
       "      <td>507.299785</td>\n",
       "      <td>282.625921</td>\n",
       "      <td>6.478149</td>\n",
       "      <td>9989.466264</td>\n",
       "    </tr>\n",
       "    <tr>\n",
       "      <th>3</th>\n",
       "      <td>Russia</td>\n",
       "      <td>0.015996</td>\n",
       "      <td>5286.818101</td>\n",
       "      <td>84.570342</td>\n",
       "      <td>3771.088984</td>\n",
       "      <td>1431.158776</td>\n",
       "      <td>15.760151</td>\n",
       "      <td>171249.392018</td>\n",
       "    </tr>\n",
       "    <tr>\n",
       "      <th>4</th>\n",
       "      <td>South Africa</td>\n",
       "      <td>0.013814</td>\n",
       "      <td>6139.385078</td>\n",
       "      <td>84.812381</td>\n",
       "      <td>3219.584478</td>\n",
       "      <td>2834.988220</td>\n",
       "      <td>9.082828</td>\n",
       "      <td>41652.046094</td>\n",
       "    </tr>\n",
       "    <tr>\n",
       "      <th>...</th>\n",
       "      <td>...</td>\n",
       "      <td>...</td>\n",
       "      <td>...</td>\n",
       "      <td>...</td>\n",
       "      <td>...</td>\n",
       "      <td>...</td>\n",
       "      <td>...</td>\n",
       "      <td>...</td>\n",
       "    </tr>\n",
       "    <tr>\n",
       "      <th>205</th>\n",
       "      <td>Greenland</td>\n",
       "      <td>0.000000</td>\n",
       "      <td>228.974020</td>\n",
       "      <td>0.000000</td>\n",
       "      <td>228.974020</td>\n",
       "      <td>0.000000</td>\n",
       "      <td>0.000000</td>\n",
       "      <td>91448.701013</td>\n",
       "    </tr>\n",
       "    <tr>\n",
       "      <th>206</th>\n",
       "      <td>Montserrat</td>\n",
       "      <td>0.083333</td>\n",
       "      <td>2403.846154</td>\n",
       "      <td>200.320513</td>\n",
       "      <td>2003.205128</td>\n",
       "      <td>200.320513</td>\n",
       "      <td>0.000000</td>\n",
       "      <td>12219.551282</td>\n",
       "    </tr>\n",
       "    <tr>\n",
       "      <th>209</th>\n",
       "      <td>Caribbean Netherlands</td>\n",
       "      <td>0.000000</td>\n",
       "      <td>381.170192</td>\n",
       "      <td>0.000000</td>\n",
       "      <td>266.819135</td>\n",
       "      <td>114.351058</td>\n",
       "      <td>0.000000</td>\n",
       "      <td>16161.616162</td>\n",
       "    </tr>\n",
       "    <tr>\n",
       "      <th>210</th>\n",
       "      <td>British Virgin Islands</td>\n",
       "      <td>0.125000</td>\n",
       "      <td>264.541516</td>\n",
       "      <td>33.067690</td>\n",
       "      <td>231.473827</td>\n",
       "      <td>0.000000</td>\n",
       "      <td>0.000000</td>\n",
       "      <td>14516.715717</td>\n",
       "    </tr>\n",
       "    <tr>\n",
       "      <th>211</th>\n",
       "      <td>St. Barth</td>\n",
       "      <td>0.000000</td>\n",
       "      <td>607.348922</td>\n",
       "      <td>0.000000</td>\n",
       "      <td>607.348922</td>\n",
       "      <td>0.000000</td>\n",
       "      <td>0.000000</td>\n",
       "      <td>90798.663832</td>\n",
       "    </tr>\n",
       "  </tbody>\n",
       "</table>\n",
       "<p>194 rows × 8 columns</p>\n",
       "</div>"
      ],
      "text/plain": [
       "                    Country  Mortality_rate  Cases_per_ML  Deaths_per_ML  \\\n",
       "0                       USA        0.036791  11760.730086     432.691202   \n",
       "1                    Brazil        0.037880   9868.624239     373.828305   \n",
       "2                     India        0.024598    809.846161      19.920454   \n",
       "3                    Russia        0.015996   5286.818101      84.570342   \n",
       "4              South Africa        0.013814   6139.385078      84.812381   \n",
       "..                      ...             ...           ...            ...   \n",
       "205               Greenland        0.000000    228.974020       0.000000   \n",
       "206              Montserrat        0.083333   2403.846154     200.320513   \n",
       "209   Caribbean Netherlands        0.000000    381.170192       0.000000   \n",
       "210  British Virgin Islands        0.125000    264.541516      33.067690   \n",
       "211               St. Barth        0.000000    607.348922       0.000000   \n",
       "\n",
       "     Recovered_per_ML  Active_per_ML  Critical_per_ML   Tests_per_ML  \n",
       "0         5442.836898    5885.201986        50.184605  145951.490666  \n",
       "1         6448.825145    3045.970789        39.119161   23096.497056  \n",
       "2          507.299785     282.625921         6.478149    9989.466264  \n",
       "3         3771.088984    1431.158776        15.760151  171249.392018  \n",
       "4         3219.584478    2834.988220         9.082828   41652.046094  \n",
       "..                ...            ...              ...            ...  \n",
       "205        228.974020       0.000000         0.000000   91448.701013  \n",
       "206       2003.205128     200.320513         0.000000   12219.551282  \n",
       "209        266.819135     114.351058         0.000000   16161.616162  \n",
       "210        231.473827       0.000000         0.000000   14516.715717  \n",
       "211        607.348922       0.000000         0.000000   90798.663832  \n",
       "\n",
       "[194 rows x 8 columns]"
      ]
     },
     "execution_count": 18,
     "metadata": {},
     "output_type": "execute_result"
    }
   ],
   "source": [
    "df_covid_final"
   ]
  },
  {
   "cell_type": "code",
   "execution_count": 19,
   "metadata": {},
   "outputs": [],
   "source": [
    "df_covid_final_ = df_covid_final.drop(\"Country\", axis=1)"
   ]
  },
  {
   "cell_type": "code",
   "execution_count": 20,
   "metadata": {},
   "outputs": [
    {
     "data": {
      "text/html": [
       "<div>\n",
       "<style scoped>\n",
       "    .dataframe tbody tr th:only-of-type {\n",
       "        vertical-align: middle;\n",
       "    }\n",
       "\n",
       "    .dataframe tbody tr th {\n",
       "        vertical-align: top;\n",
       "    }\n",
       "\n",
       "    .dataframe thead th {\n",
       "        text-align: right;\n",
       "    }\n",
       "</style>\n",
       "<table border=\"1\" class=\"dataframe\">\n",
       "  <thead>\n",
       "    <tr style=\"text-align: right;\">\n",
       "      <th></th>\n",
       "      <th>Mortality_rate</th>\n",
       "      <th>Cases_per_ML</th>\n",
       "      <th>Deaths_per_ML</th>\n",
       "      <th>Recovered_per_ML</th>\n",
       "      <th>Active_per_ML</th>\n",
       "      <th>Critical_per_ML</th>\n",
       "      <th>Tests_per_ML</th>\n",
       "    </tr>\n",
       "  </thead>\n",
       "  <tbody>\n",
       "    <tr>\n",
       "      <th>0</th>\n",
       "      <td>0.036791</td>\n",
       "      <td>11760.730086</td>\n",
       "      <td>432.691202</td>\n",
       "      <td>5442.836898</td>\n",
       "      <td>5885.201986</td>\n",
       "      <td>50.184605</td>\n",
       "      <td>145951.490666</td>\n",
       "    </tr>\n",
       "    <tr>\n",
       "      <th>1</th>\n",
       "      <td>0.037880</td>\n",
       "      <td>9868.624239</td>\n",
       "      <td>373.828305</td>\n",
       "      <td>6448.825145</td>\n",
       "      <td>3045.970789</td>\n",
       "      <td>39.119161</td>\n",
       "      <td>23096.497056</td>\n",
       "    </tr>\n",
       "    <tr>\n",
       "      <th>2</th>\n",
       "      <td>0.024598</td>\n",
       "      <td>809.846161</td>\n",
       "      <td>19.920454</td>\n",
       "      <td>507.299785</td>\n",
       "      <td>282.625921</td>\n",
       "      <td>6.478149</td>\n",
       "      <td>9989.466264</td>\n",
       "    </tr>\n",
       "    <tr>\n",
       "      <th>3</th>\n",
       "      <td>0.015996</td>\n",
       "      <td>5286.818101</td>\n",
       "      <td>84.570342</td>\n",
       "      <td>3771.088984</td>\n",
       "      <td>1431.158776</td>\n",
       "      <td>15.760151</td>\n",
       "      <td>171249.392018</td>\n",
       "    </tr>\n",
       "    <tr>\n",
       "      <th>4</th>\n",
       "      <td>0.013814</td>\n",
       "      <td>6139.385078</td>\n",
       "      <td>84.812381</td>\n",
       "      <td>3219.584478</td>\n",
       "      <td>2834.988220</td>\n",
       "      <td>9.082828</td>\n",
       "      <td>41652.046094</td>\n",
       "    </tr>\n",
       "    <tr>\n",
       "      <th>...</th>\n",
       "      <td>...</td>\n",
       "      <td>...</td>\n",
       "      <td>...</td>\n",
       "      <td>...</td>\n",
       "      <td>...</td>\n",
       "      <td>...</td>\n",
       "      <td>...</td>\n",
       "    </tr>\n",
       "    <tr>\n",
       "      <th>205</th>\n",
       "      <td>0.000000</td>\n",
       "      <td>228.974020</td>\n",
       "      <td>0.000000</td>\n",
       "      <td>228.974020</td>\n",
       "      <td>0.000000</td>\n",
       "      <td>0.000000</td>\n",
       "      <td>91448.701013</td>\n",
       "    </tr>\n",
       "    <tr>\n",
       "      <th>206</th>\n",
       "      <td>0.083333</td>\n",
       "      <td>2403.846154</td>\n",
       "      <td>200.320513</td>\n",
       "      <td>2003.205128</td>\n",
       "      <td>200.320513</td>\n",
       "      <td>0.000000</td>\n",
       "      <td>12219.551282</td>\n",
       "    </tr>\n",
       "    <tr>\n",
       "      <th>209</th>\n",
       "      <td>0.000000</td>\n",
       "      <td>381.170192</td>\n",
       "      <td>0.000000</td>\n",
       "      <td>266.819135</td>\n",
       "      <td>114.351058</td>\n",
       "      <td>0.000000</td>\n",
       "      <td>16161.616162</td>\n",
       "    </tr>\n",
       "    <tr>\n",
       "      <th>210</th>\n",
       "      <td>0.125000</td>\n",
       "      <td>264.541516</td>\n",
       "      <td>33.067690</td>\n",
       "      <td>231.473827</td>\n",
       "      <td>0.000000</td>\n",
       "      <td>0.000000</td>\n",
       "      <td>14516.715717</td>\n",
       "    </tr>\n",
       "    <tr>\n",
       "      <th>211</th>\n",
       "      <td>0.000000</td>\n",
       "      <td>607.348922</td>\n",
       "      <td>0.000000</td>\n",
       "      <td>607.348922</td>\n",
       "      <td>0.000000</td>\n",
       "      <td>0.000000</td>\n",
       "      <td>90798.663832</td>\n",
       "    </tr>\n",
       "  </tbody>\n",
       "</table>\n",
       "<p>194 rows × 7 columns</p>\n",
       "</div>"
      ],
      "text/plain": [
       "     Mortality_rate  Cases_per_ML  Deaths_per_ML  Recovered_per_ML  \\\n",
       "0          0.036791  11760.730086     432.691202       5442.836898   \n",
       "1          0.037880   9868.624239     373.828305       6448.825145   \n",
       "2          0.024598    809.846161      19.920454        507.299785   \n",
       "3          0.015996   5286.818101      84.570342       3771.088984   \n",
       "4          0.013814   6139.385078      84.812381       3219.584478   \n",
       "..              ...           ...            ...               ...   \n",
       "205        0.000000    228.974020       0.000000        228.974020   \n",
       "206        0.083333   2403.846154     200.320513       2003.205128   \n",
       "209        0.000000    381.170192       0.000000        266.819135   \n",
       "210        0.125000    264.541516      33.067690        231.473827   \n",
       "211        0.000000    607.348922       0.000000        607.348922   \n",
       "\n",
       "     Active_per_ML  Critical_per_ML   Tests_per_ML  \n",
       "0      5885.201986        50.184605  145951.490666  \n",
       "1      3045.970789        39.119161   23096.497056  \n",
       "2       282.625921         6.478149    9989.466264  \n",
       "3      1431.158776        15.760151  171249.392018  \n",
       "4      2834.988220         9.082828   41652.046094  \n",
       "..             ...              ...            ...  \n",
       "205       0.000000         0.000000   91448.701013  \n",
       "206     200.320513         0.000000   12219.551282  \n",
       "209     114.351058         0.000000   16161.616162  \n",
       "210       0.000000         0.000000   14516.715717  \n",
       "211       0.000000         0.000000   90798.663832  \n",
       "\n",
       "[194 rows x 7 columns]"
      ]
     },
     "execution_count": 20,
     "metadata": {},
     "output_type": "execute_result"
    }
   ],
   "source": [
    "df_covid_final_"
   ]
  },
  {
   "cell_type": "code",
   "execution_count": 21,
   "metadata": {},
   "outputs": [],
   "source": [
    "scaler = StandardScaler()\n",
    "\n",
    "scaled_data = scaler.fit_transform(df_covid_final_)"
   ]
  },
  {
   "cell_type": "code",
   "execution_count": 22,
   "metadata": {},
   "outputs": [
    {
     "data": {
      "text/plain": [
       "array([[ 0.14017235,  1.96177707,  2.13848903, ...,  4.29901368,\n",
       "         2.79419387,  0.66743852],\n",
       "       [ 0.16906839,  1.55108523,  1.77828074, ...,  1.95231797,\n",
       "         2.07667778, -0.35957659],\n",
       "       [-0.18328212, -0.41517171, -0.38743905, ..., -0.3316558 ,\n",
       "        -0.03986186, -0.46914575],\n",
       "       ...,\n",
       "       [-0.835791  , -0.50821815, -0.50934119, ..., -0.47073919,\n",
       "        -0.45992421, -0.41754922],\n",
       "       [ 2.48009612, -0.53353304, -0.30698526, ..., -0.5652532 ,\n",
       "        -0.45992421, -0.43129989],\n",
       "       [-0.835791  , -0.45912483, -0.50934119, ..., -0.5652532 ,\n",
       "        -0.45992421,  0.20638452]])"
      ]
     },
     "execution_count": 22,
     "metadata": {},
     "output_type": "execute_result"
    }
   ],
   "source": [
    "scaled_data"
   ]
  },
  {
   "cell_type": "code",
   "execution_count": 23,
   "metadata": {},
   "outputs": [],
   "source": [
    "df_covid_final_scaled = pd.DataFrame(scaled_data, columns=df_covid_final_.columns)"
   ]
  },
  {
   "cell_type": "code",
   "execution_count": 24,
   "metadata": {},
   "outputs": [
    {
     "data": {
      "text/html": [
       "<div>\n",
       "<style scoped>\n",
       "    .dataframe tbody tr th:only-of-type {\n",
       "        vertical-align: middle;\n",
       "    }\n",
       "\n",
       "    .dataframe tbody tr th {\n",
       "        vertical-align: top;\n",
       "    }\n",
       "\n",
       "    .dataframe thead th {\n",
       "        text-align: right;\n",
       "    }\n",
       "</style>\n",
       "<table border=\"1\" class=\"dataframe\">\n",
       "  <thead>\n",
       "    <tr style=\"text-align: right;\">\n",
       "      <th></th>\n",
       "      <th>Mortality_rate</th>\n",
       "      <th>Cases_per_ML</th>\n",
       "      <th>Deaths_per_ML</th>\n",
       "      <th>Recovered_per_ML</th>\n",
       "      <th>Active_per_ML</th>\n",
       "      <th>Critical_per_ML</th>\n",
       "      <th>Tests_per_ML</th>\n",
       "    </tr>\n",
       "  </thead>\n",
       "  <tbody>\n",
       "    <tr>\n",
       "      <th>0</th>\n",
       "      <td>0.140172</td>\n",
       "      <td>1.961777</td>\n",
       "      <td>2.138489</td>\n",
       "      <td>0.880126</td>\n",
       "      <td>4.299014</td>\n",
       "      <td>2.794194</td>\n",
       "      <td>0.667439</td>\n",
       "    </tr>\n",
       "    <tr>\n",
       "      <th>1</th>\n",
       "      <td>0.169068</td>\n",
       "      <td>1.551085</td>\n",
       "      <td>1.778281</td>\n",
       "      <td>1.133636</td>\n",
       "      <td>1.952318</td>\n",
       "      <td>2.076678</td>\n",
       "      <td>-0.359577</td>\n",
       "    </tr>\n",
       "    <tr>\n",
       "      <th>2</th>\n",
       "      <td>-0.183282</td>\n",
       "      <td>-0.415172</td>\n",
       "      <td>-0.387439</td>\n",
       "      <td>-0.363635</td>\n",
       "      <td>-0.331656</td>\n",
       "      <td>-0.039862</td>\n",
       "      <td>-0.469146</td>\n",
       "    </tr>\n",
       "    <tr>\n",
       "      <th>3</th>\n",
       "      <td>-0.411452</td>\n",
       "      <td>0.556579</td>\n",
       "      <td>0.008182</td>\n",
       "      <td>0.458843</td>\n",
       "      <td>0.617635</td>\n",
       "      <td>0.562011</td>\n",
       "      <td>0.878918</td>\n",
       "    </tr>\n",
       "    <tr>\n",
       "      <th>4</th>\n",
       "      <td>-0.469333</td>\n",
       "      <td>0.741634</td>\n",
       "      <td>0.009664</td>\n",
       "      <td>0.319864</td>\n",
       "      <td>1.777936</td>\n",
       "      <td>0.129033</td>\n",
       "      <td>-0.204460</td>\n",
       "    </tr>\n",
       "    <tr>\n",
       "      <th>...</th>\n",
       "      <td>...</td>\n",
       "      <td>...</td>\n",
       "      <td>...</td>\n",
       "      <td>...</td>\n",
       "      <td>...</td>\n",
       "      <td>...</td>\n",
       "      <td>...</td>\n",
       "    </tr>\n",
       "    <tr>\n",
       "      <th>189</th>\n",
       "      <td>-0.835791</td>\n",
       "      <td>-0.541253</td>\n",
       "      <td>-0.509341</td>\n",
       "      <td>-0.433773</td>\n",
       "      <td>-0.565253</td>\n",
       "      <td>-0.459924</td>\n",
       "      <td>0.211819</td>\n",
       "    </tr>\n",
       "    <tr>\n",
       "      <th>190</th>\n",
       "      <td>1.374800</td>\n",
       "      <td>-0.069185</td>\n",
       "      <td>0.716509</td>\n",
       "      <td>0.013335</td>\n",
       "      <td>-0.399683</td>\n",
       "      <td>-0.459924</td>\n",
       "      <td>-0.450503</td>\n",
       "    </tr>\n",
       "    <tr>\n",
       "      <th>191</th>\n",
       "      <td>-0.835791</td>\n",
       "      <td>-0.508218</td>\n",
       "      <td>-0.509341</td>\n",
       "      <td>-0.424236</td>\n",
       "      <td>-0.470739</td>\n",
       "      <td>-0.459924</td>\n",
       "      <td>-0.417549</td>\n",
       "    </tr>\n",
       "    <tr>\n",
       "      <th>192</th>\n",
       "      <td>2.480096</td>\n",
       "      <td>-0.533533</td>\n",
       "      <td>-0.306985</td>\n",
       "      <td>-0.433144</td>\n",
       "      <td>-0.565253</td>\n",
       "      <td>-0.459924</td>\n",
       "      <td>-0.431300</td>\n",
       "    </tr>\n",
       "    <tr>\n",
       "      <th>193</th>\n",
       "      <td>-0.835791</td>\n",
       "      <td>-0.459125</td>\n",
       "      <td>-0.509341</td>\n",
       "      <td>-0.338423</td>\n",
       "      <td>-0.565253</td>\n",
       "      <td>-0.459924</td>\n",
       "      <td>0.206385</td>\n",
       "    </tr>\n",
       "  </tbody>\n",
       "</table>\n",
       "<p>194 rows × 7 columns</p>\n",
       "</div>"
      ],
      "text/plain": [
       "     Mortality_rate  Cases_per_ML  Deaths_per_ML  Recovered_per_ML  \\\n",
       "0          0.140172      1.961777       2.138489          0.880126   \n",
       "1          0.169068      1.551085       1.778281          1.133636   \n",
       "2         -0.183282     -0.415172      -0.387439         -0.363635   \n",
       "3         -0.411452      0.556579       0.008182          0.458843   \n",
       "4         -0.469333      0.741634       0.009664          0.319864   \n",
       "..              ...           ...            ...               ...   \n",
       "189       -0.835791     -0.541253      -0.509341         -0.433773   \n",
       "190        1.374800     -0.069185       0.716509          0.013335   \n",
       "191       -0.835791     -0.508218      -0.509341         -0.424236   \n",
       "192        2.480096     -0.533533      -0.306985         -0.433144   \n",
       "193       -0.835791     -0.459125      -0.509341         -0.338423   \n",
       "\n",
       "     Active_per_ML  Critical_per_ML  Tests_per_ML  \n",
       "0         4.299014         2.794194      0.667439  \n",
       "1         1.952318         2.076678     -0.359577  \n",
       "2        -0.331656        -0.039862     -0.469146  \n",
       "3         0.617635         0.562011      0.878918  \n",
       "4         1.777936         0.129033     -0.204460  \n",
       "..             ...              ...           ...  \n",
       "189      -0.565253        -0.459924      0.211819  \n",
       "190      -0.399683        -0.459924     -0.450503  \n",
       "191      -0.470739        -0.459924     -0.417549  \n",
       "192      -0.565253        -0.459924     -0.431300  \n",
       "193      -0.565253        -0.459924      0.206385  \n",
       "\n",
       "[194 rows x 7 columns]"
      ]
     },
     "execution_count": 24,
     "metadata": {},
     "output_type": "execute_result"
    }
   ],
   "source": [
    "df_covid_final_scaled"
   ]
  },
  {
   "cell_type": "markdown",
   "metadata": {},
   "source": [
    "## 3. With scaled data, use scipy.cluster.hierarchy to determine the optimal number of clusters."
   ]
  },
  {
   "cell_type": "code",
   "execution_count": 25,
   "metadata": {},
   "outputs": [],
   "source": [
    "def show_dendogram(data):\n",
    "    plt.figure(figsize=(20, 7))\n",
    "    plt.title(\"World Covid1 Cases Dendogram\")\n",
    "    dend = shc.dendrogram(shc.linkage(data, method='ward'))"
   ]
  },
  {
   "cell_type": "code",
   "execution_count": 26,
   "metadata": {},
   "outputs": [
    {
     "data": {
      "image/png": "[encoded data removed]",
      "text/plain": [
       "<Figure size 1440x504 with 1 Axes>"
      ]
     },
     "metadata": {
      "needs_background": "light"
     },
     "output_type": "display_data"
    }
   ],
   "source": [
    "show_dendogram(df_covid_final_scaled)"
   ]
  },
  {
   "cell_type": "markdown",
   "metadata": {},
   "source": [
    "## 4. Repeat step 3 using the Elbow method (i.e., scree plot)"
   ]
  },
  {
   "cell_type": "code",
   "execution_count": 27,
   "metadata": {},
   "outputs": [],
   "source": [
    "def calculate_wcss(data):\n",
    "    wcss = []\n",
    "    for n in range(2, 16):\n",
    "        kmeans = KMeans(n_clusters=n, random_state=0)\n",
    "        kmeans.fit(X=data)\n",
    "        wcss.append(kmeans.inertia_)\n",
    "    \n",
    "    return wcss"
   ]
  },
  {
   "cell_type": "code",
   "execution_count": 28,
   "metadata": {},
   "outputs": [],
   "source": [
    "wcss_final = calculate_wcss(df_covid_final_scaled)"
   ]
  },
  {
   "cell_type": "code",
   "execution_count": 29,
   "metadata": {},
   "outputs": [
    {
     "data": {
      "image/png": "[encoded data removed]",
      "text/plain": [
       "<Figure size 432x288 with 1 Axes>"
      ]
     },
     "metadata": {
      "needs_background": "light"
     },
     "output_type": "display_data"
    }
   ],
   "source": [
    "plt.plot(range(2,16), wcss_final, '-go')\n",
    "plt.xlabel('k')\n",
    "plt.ylabel('Sum_of_squared_distances')\n",
    "plt.title('Elbow Method For Optimal k')\n",
    "plt.show()"
   ]
  },
  {
   "cell_type": "markdown",
   "metadata": {},
   "source": [
    "## 5. Using the optimal number of clusters determined in 3) above (more conclusive than the Elbow method), implement cluster analysis using k-means and hierarchical (i.e., Page 3 of 3 AgglomarativeClustering) techniques. \n"
   ]
  },
  {
   "cell_type": "markdown",
   "metadata": {},
   "source": [
    "### 5.1 K-Means"
   ]
  },
  {
   "cell_type": "code",
   "execution_count": 30,
   "metadata": {},
   "outputs": [
    {
     "name": "stdout",
     "output_type": "stream",
     "text": [
      "[1 1 0 0 0 1 2 1 2 2 0 0 1 2 0 0 0 0 2 0 2 1 0 0 0 0 2 2 0 0 1 0 2 1 0 0 0\n",
      " 0 1 2 0 0 0 0 0 0 0 1 0 1 0 0 0 0 0 2 0 1 0 0 0 0 0 0 0 0 0 0 0 0 0 0 0 0\n",
      " 0 0 0 0 0 0 0 0 0 0 0 1 0 0 0 1 0 0 0 2 0 0 0 0 0 0 0 0 0 0 0 0 0 0 0 0 0\n",
      " 0 0 0 0 0 0 0 0 0 2 0 0 0 0 0 0 0 0 0 0 0 0 0 0 2 0 0 0 0 1 0 0 2 0 0 0 0\n",
      " 0 0 2 0 0 0 0 0 0 0 0 0 0 0 0 0 0 0 0 0 0 0 2 0 0 0 0 0 0 0 0 0 0 0 0 0 0\n",
      " 0 0 0 0 0 2 0 2 0]\n"
     ]
    }
   ],
   "source": [
    "kmeans = KMeans(n_clusters=3, random_state=0)\n",
    "clusters_km = kmeans.fit_predict(df_covid_final_scaled)\n",
    "\n",
    "print(clusters_km)"
   ]
  },
  {
   "cell_type": "markdown",
   "metadata": {},
   "source": [
    "### 5.2  HIERARCHICAL CLUSTERING APPROACH"
   ]
  },
  {
   "cell_type": "code",
   "execution_count": 35,
   "metadata": {},
   "outputs": [],
   "source": [
    "hclust = AgglomerativeClustering(n_clusters=3, affinity='euclidean', linkage='ward')\n",
    "\n",
    "clusters_ac = hclust.fit_predict(df_covid_final_scaled)\n"
   ]
  },
  {
   "cell_type": "code",
   "execution_count": 36,
   "metadata": {},
   "outputs": [
    {
     "data": {
      "text/plain": [
       "array([1, 1, 0, 0, 0, 1, 2, 1, 2, 2, 0, 0, 0, 2, 0, 0, 0, 0, 2, 0, 0, 1,\n",
       "       0, 0, 0, 0, 2, 0, 0, 0, 1, 0, 2, 1, 0, 0, 0, 0, 1, 2, 0, 0, 0, 0,\n",
       "       0, 0, 0, 1, 0, 1, 2, 0, 0, 0, 0, 2, 0, 0, 0, 0, 0, 0, 0, 0, 0, 0,\n",
       "       0, 0, 0, 0, 0, 0, 0, 0, 0, 0, 0, 0, 0, 0, 0, 0, 0, 0, 0, 1, 0, 0,\n",
       "       0, 0, 0, 0, 0, 2, 0, 0, 0, 0, 0, 0, 0, 0, 0, 0, 0, 0, 0, 0, 0, 0,\n",
       "       0, 0, 0, 0, 0, 0, 0, 0, 0, 0, 2, 0, 0, 0, 0, 0, 0, 0, 0, 0, 0, 0,\n",
       "       0, 0, 0, 2, 0, 0, 0, 0, 2, 0, 0, 2, 0, 0, 0, 0, 0, 0, 2, 0, 0, 0,\n",
       "       0, 0, 0, 0, 0, 0, 0, 0, 0, 0, 0, 0, 0, 0, 0, 0, 2, 0, 0, 0, 0, 0,\n",
       "       0, 0, 0, 0, 0, 0, 0, 0, 0, 0, 0, 0, 0, 0, 2, 0, 2, 0], dtype=int64)"
      ]
     },
     "execution_count": 36,
     "metadata": {},
     "output_type": "execute_result"
    }
   ],
   "source": [
    "clusters_ac"
   ]
  },
  {
   "cell_type": "markdown",
   "metadata": {},
   "source": [
    "## 6. Compare the strenth of cluster solutions of the two approaches using the following metrics: silhouette_score, calinski_harabasz_score, davies_bouldin_score"
   ]
  },
  {
   "cell_type": "markdown",
   "metadata": {},
   "source": [
    "#### 6.1 SILHOUETTE COEFFIECIENT"
   ]
  },
  {
   "cell_type": "code",
   "execution_count": 44,
   "metadata": {},
   "outputs": [
    {
     "data": {
      "text/plain": [
       "0.5310315622336387"
      ]
     },
     "execution_count": 44,
     "metadata": {},
     "output_type": "execute_result"
    }
   ],
   "source": [
    "#K-means\n",
    "silhouette_score(df_covid_final_scaled, clusters_km, metric='euclidean')"
   ]
  },
  {
   "cell_type": "code",
   "execution_count": 45,
   "metadata": {},
   "outputs": [
    {
     "data": {
      "text/plain": [
       "0.5346570883978448"
      ]
     },
     "execution_count": 45,
     "metadata": {},
     "output_type": "execute_result"
    }
   ],
   "source": [
    "#Hierarchical clustering\n",
    "silhouette_score(df_covid_final_scaled, clusters_ac, metric='euclidean')"
   ]
  },
  {
   "cell_type": "markdown",
   "metadata": {},
   "source": [
    "#### 6.2 calinski_harabasz_score"
   ]
  },
  {
   "cell_type": "code",
   "execution_count": 42,
   "metadata": {},
   "outputs": [
    {
     "data": {
      "text/plain": [
       "72.88634114982202"
      ]
     },
     "execution_count": 42,
     "metadata": {},
     "output_type": "execute_result"
    }
   ],
   "source": [
    "#K-means\n",
    "calinski_harabasz_score(df_covid_final_scaled, clusters_km)"
   ]
  },
  {
   "cell_type": "code",
   "execution_count": 46,
   "metadata": {},
   "outputs": [
    {
     "data": {
      "text/plain": [
       "67.16859942675217"
      ]
     },
     "execution_count": 46,
     "metadata": {},
     "output_type": "execute_result"
    }
   ],
   "source": [
    "#Hierachical clustering\n",
    "calinski_harabasz_score(df_covid_final_scaled, clusters_ac)"
   ]
  },
  {
   "cell_type": "markdown",
   "metadata": {},
   "source": [
    "#### 6.3 davies_bouldin_score"
   ]
  },
  {
   "cell_type": "code",
   "execution_count": 47,
   "metadata": {},
   "outputs": [
    {
     "data": {
      "text/plain": [
       "1.1693915881286654"
      ]
     },
     "execution_count": 47,
     "metadata": {},
     "output_type": "execute_result"
    }
   ],
   "source": [
    "#K-means\n",
    "davies_bouldin_score(df_covid_final_scaled, clusters_km)"
   ]
  },
  {
   "cell_type": "code",
   "execution_count": 48,
   "metadata": {},
   "outputs": [
    {
     "data": {
      "text/plain": [
       "1.0979807302454392"
      ]
     },
     "execution_count": 48,
     "metadata": {},
     "output_type": "execute_result"
    }
   ],
   "source": [
    "#Hierarchical clustering\n",
    "davies_bouldin_score(df_covid_final_scaled, clusters_ac)"
   ]
  },
  {
   "cell_type": "markdown",
   "metadata": {},
   "source": [
    "# 7. Based on the metrics in 6) above, We have selected the Hierachical clustering as the better technique for further analysis."
   ]
  },
  {
   "cell_type": "markdown",
   "metadata": {},
   "source": [
    "# 8. Based on the results of the chosen technique, append cluster membership variable/feature to the data frame you obtained in step 2. i) above (i.e., the data frame containing country column). Yes, I did tell you to keep it intact! Save the data frame to file as a CSV file."
   ]
  },
  {
   "cell_type": "code",
   "execution_count": 49,
   "metadata": {},
   "outputs": [],
   "source": [
    "df_covid_final['Clust_mem'] = clusters_ac"
   ]
  },
  {
   "cell_type": "code",
   "execution_count": 50,
   "metadata": {},
   "outputs": [
    {
     "data": {
      "text/html": [
       "<div>\n",
       "<style scoped>\n",
       "    .dataframe tbody tr th:only-of-type {\n",
       "        vertical-align: middle;\n",
       "    }\n",
       "\n",
       "    .dataframe tbody tr th {\n",
       "        vertical-align: top;\n",
       "    }\n",
       "\n",
       "    .dataframe thead th {\n",
       "        text-align: right;\n",
       "    }\n",
       "</style>\n",
       "<table border=\"1\" class=\"dataframe\">\n",
       "  <thead>\n",
       "    <tr style=\"text-align: right;\">\n",
       "      <th></th>\n",
       "      <th>Country</th>\n",
       "      <th>Mortality_rate</th>\n",
       "      <th>Cases_per_ML</th>\n",
       "      <th>Deaths_per_ML</th>\n",
       "      <th>Recovered_per_ML</th>\n",
       "      <th>Active_per_ML</th>\n",
       "      <th>Critical_per_ML</th>\n",
       "      <th>Tests_per_ML</th>\n",
       "      <th>Clust_mem</th>\n",
       "    </tr>\n",
       "  </thead>\n",
       "  <tbody>\n",
       "    <tr>\n",
       "      <th>0</th>\n",
       "      <td>USA</td>\n",
       "      <td>0.036791</td>\n",
       "      <td>11760.730086</td>\n",
       "      <td>432.691202</td>\n",
       "      <td>5442.836898</td>\n",
       "      <td>5885.201986</td>\n",
       "      <td>50.184605</td>\n",
       "      <td>145951.490666</td>\n",
       "      <td>1</td>\n",
       "    </tr>\n",
       "    <tr>\n",
       "      <th>1</th>\n",
       "      <td>Brazil</td>\n",
       "      <td>0.037880</td>\n",
       "      <td>9868.624239</td>\n",
       "      <td>373.828305</td>\n",
       "      <td>6448.825145</td>\n",
       "      <td>3045.970789</td>\n",
       "      <td>39.119161</td>\n",
       "      <td>23096.497056</td>\n",
       "      <td>1</td>\n",
       "    </tr>\n",
       "    <tr>\n",
       "      <th>2</th>\n",
       "      <td>India</td>\n",
       "      <td>0.024598</td>\n",
       "      <td>809.846161</td>\n",
       "      <td>19.920454</td>\n",
       "      <td>507.299785</td>\n",
       "      <td>282.625921</td>\n",
       "      <td>6.478149</td>\n",
       "      <td>9989.466264</td>\n",
       "      <td>0</td>\n",
       "    </tr>\n",
       "    <tr>\n",
       "      <th>3</th>\n",
       "      <td>Russia</td>\n",
       "      <td>0.015996</td>\n",
       "      <td>5286.818101</td>\n",
       "      <td>84.570342</td>\n",
       "      <td>3771.088984</td>\n",
       "      <td>1431.158776</td>\n",
       "      <td>15.760151</td>\n",
       "      <td>171249.392018</td>\n",
       "      <td>0</td>\n",
       "    </tr>\n",
       "    <tr>\n",
       "      <th>4</th>\n",
       "      <td>South Africa</td>\n",
       "      <td>0.013814</td>\n",
       "      <td>6139.385078</td>\n",
       "      <td>84.812381</td>\n",
       "      <td>3219.584478</td>\n",
       "      <td>2834.988220</td>\n",
       "      <td>9.082828</td>\n",
       "      <td>41652.046094</td>\n",
       "      <td>0</td>\n",
       "    </tr>\n",
       "    <tr>\n",
       "      <th>...</th>\n",
       "      <td>...</td>\n",
       "      <td>...</td>\n",
       "      <td>...</td>\n",
       "      <td>...</td>\n",
       "      <td>...</td>\n",
       "      <td>...</td>\n",
       "      <td>...</td>\n",
       "      <td>...</td>\n",
       "      <td>...</td>\n",
       "    </tr>\n",
       "    <tr>\n",
       "      <th>205</th>\n",
       "      <td>Greenland</td>\n",
       "      <td>0.000000</td>\n",
       "      <td>228.974020</td>\n",
       "      <td>0.000000</td>\n",
       "      <td>228.974020</td>\n",
       "      <td>0.000000</td>\n",
       "      <td>0.000000</td>\n",
       "      <td>91448.701013</td>\n",
       "      <td>0</td>\n",
       "    </tr>\n",
       "    <tr>\n",
       "      <th>206</th>\n",
       "      <td>Montserrat</td>\n",
       "      <td>0.083333</td>\n",
       "      <td>2403.846154</td>\n",
       "      <td>200.320513</td>\n",
       "      <td>2003.205128</td>\n",
       "      <td>200.320513</td>\n",
       "      <td>0.000000</td>\n",
       "      <td>12219.551282</td>\n",
       "      <td>2</td>\n",
       "    </tr>\n",
       "    <tr>\n",
       "      <th>209</th>\n",
       "      <td>Caribbean Netherlands</td>\n",
       "      <td>0.000000</td>\n",
       "      <td>381.170192</td>\n",
       "      <td>0.000000</td>\n",
       "      <td>266.819135</td>\n",
       "      <td>114.351058</td>\n",
       "      <td>0.000000</td>\n",
       "      <td>16161.616162</td>\n",
       "      <td>0</td>\n",
       "    </tr>\n",
       "    <tr>\n",
       "      <th>210</th>\n",
       "      <td>British Virgin Islands</td>\n",
       "      <td>0.125000</td>\n",
       "      <td>264.541516</td>\n",
       "      <td>33.067690</td>\n",
       "      <td>231.473827</td>\n",
       "      <td>0.000000</td>\n",
       "      <td>0.000000</td>\n",
       "      <td>14516.715717</td>\n",
       "      <td>2</td>\n",
       "    </tr>\n",
       "    <tr>\n",
       "      <th>211</th>\n",
       "      <td>St. Barth</td>\n",
       "      <td>0.000000</td>\n",
       "      <td>607.348922</td>\n",
       "      <td>0.000000</td>\n",
       "      <td>607.348922</td>\n",
       "      <td>0.000000</td>\n",
       "      <td>0.000000</td>\n",
       "      <td>90798.663832</td>\n",
       "      <td>0</td>\n",
       "    </tr>\n",
       "  </tbody>\n",
       "</table>\n",
       "<p>194 rows × 9 columns</p>\n",
       "</div>"
      ],
      "text/plain": [
       "                    Country  Mortality_rate  Cases_per_ML  Deaths_per_ML  \\\n",
       "0                       USA        0.036791  11760.730086     432.691202   \n",
       "1                    Brazil        0.037880   9868.624239     373.828305   \n",
       "2                     India        0.024598    809.846161      19.920454   \n",
       "3                    Russia        0.015996   5286.818101      84.570342   \n",
       "4              South Africa        0.013814   6139.385078      84.812381   \n",
       "..                      ...             ...           ...            ...   \n",
       "205               Greenland        0.000000    228.974020       0.000000   \n",
       "206              Montserrat        0.083333   2403.846154     200.320513   \n",
       "209   Caribbean Netherlands        0.000000    381.170192       0.000000   \n",
       "210  British Virgin Islands        0.125000    264.541516      33.067690   \n",
       "211               St. Barth        0.000000    607.348922       0.000000   \n",
       "\n",
       "     Recovered_per_ML  Active_per_ML  Critical_per_ML   Tests_per_ML  \\\n",
       "0         5442.836898    5885.201986        50.184605  145951.490666   \n",
       "1         6448.825145    3045.970789        39.119161   23096.497056   \n",
       "2          507.299785     282.625921         6.478149    9989.466264   \n",
       "3         3771.088984    1431.158776        15.760151  171249.392018   \n",
       "4         3219.584478    2834.988220         9.082828   41652.046094   \n",
       "..                ...            ...              ...            ...   \n",
       "205        228.974020       0.000000         0.000000   91448.701013   \n",
       "206       2003.205128     200.320513         0.000000   12219.551282   \n",
       "209        266.819135     114.351058         0.000000   16161.616162   \n",
       "210        231.473827       0.000000         0.000000   14516.715717   \n",
       "211        607.348922       0.000000         0.000000   90798.663832   \n",
       "\n",
       "     Clust_mem  \n",
       "0            1  \n",
       "1            1  \n",
       "2            0  \n",
       "3            0  \n",
       "4            0  \n",
       "..         ...  \n",
       "205          0  \n",
       "206          2  \n",
       "209          0  \n",
       "210          2  \n",
       "211          0  \n",
       "\n",
       "[194 rows x 9 columns]"
      ]
     },
     "execution_count": 50,
     "metadata": {},
     "output_type": "execute_result"
    }
   ],
   "source": [
    "df_covid_final"
   ]
  },
  {
   "cell_type": "code",
   "execution_count": 51,
   "metadata": {},
   "outputs": [],
   "source": [
    "df_covid_final.to_csv(\"df_covid_final_MemSHip.csv\")"
   ]
  },
  {
   "cell_type": "markdown",
   "metadata": {},
   "source": [
    "# 9.Generate a data frame of cluster centers (means) and also save it to a CSV file. Note: even though we are using scaled data to obtain cluster solution, we append cluster membershiop feature and generate cluster centers using unscaled data for easy interpretation."
   ]
  },
  {
   "cell_type": "code",
   "execution_count": 52,
   "metadata": {},
   "outputs": [],
   "source": [
    "df_cluster_centers = pd.DataFrame(df_covid_final.groupby('Clust_mem').mean().round(4))"
   ]
  },
  {
   "cell_type": "code",
   "execution_count": 53,
   "metadata": {},
   "outputs": [
    {
     "data": {
      "text/html": [
       "<div>\n",
       "<style scoped>\n",
       "    .dataframe tbody tr th:only-of-type {\n",
       "        vertical-align: middle;\n",
       "    }\n",
       "\n",
       "    .dataframe tbody tr th {\n",
       "        vertical-align: top;\n",
       "    }\n",
       "\n",
       "    .dataframe thead th {\n",
       "        text-align: right;\n",
       "    }\n",
       "</style>\n",
       "<table border=\"1\" class=\"dataframe\">\n",
       "  <thead>\n",
       "    <tr style=\"text-align: right;\">\n",
       "      <th></th>\n",
       "      <th>Mortality_rate</th>\n",
       "      <th>Cases_per_ML</th>\n",
       "      <th>Deaths_per_ML</th>\n",
       "      <th>Recovered_per_ML</th>\n",
       "      <th>Active_per_ML</th>\n",
       "      <th>Critical_per_ML</th>\n",
       "      <th>Tests_per_ML</th>\n",
       "    </tr>\n",
       "    <tr>\n",
       "      <th>Clust_mem</th>\n",
       "      <th></th>\n",
       "      <th></th>\n",
       "      <th></th>\n",
       "      <th></th>\n",
       "      <th></th>\n",
       "      <th></th>\n",
       "      <th></th>\n",
       "    </tr>\n",
       "  </thead>\n",
       "  <tbody>\n",
       "    <tr>\n",
       "      <th>0</th>\n",
       "      <td>0.0224</td>\n",
       "      <td>1562.9449</td>\n",
       "      <td>33.7694</td>\n",
       "      <td>1087.7581</td>\n",
       "      <td>441.4174</td>\n",
       "      <td>5.2403</td>\n",
       "      <td>62077.7402</td>\n",
       "    </tr>\n",
       "    <tr>\n",
       "      <th>1</th>\n",
       "      <td>0.0181</td>\n",
       "      <td>16549.0857</td>\n",
       "      <td>229.6818</td>\n",
       "      <td>12688.9369</td>\n",
       "      <td>3630.4671</td>\n",
       "      <td>43.3510</td>\n",
       "      <td>107780.1900</td>\n",
       "    </tr>\n",
       "    <tr>\n",
       "      <th>2</th>\n",
       "      <td>0.1175</td>\n",
       "      <td>4727.3580</td>\n",
       "      <td>425.3985</td>\n",
       "      <td>3178.1901</td>\n",
       "      <td>1070.9101</td>\n",
       "      <td>2.0925</td>\n",
       "      <td>76792.5291</td>\n",
       "    </tr>\n",
       "  </tbody>\n",
       "</table>\n",
       "</div>"
      ],
      "text/plain": [
       "           Mortality_rate  Cases_per_ML  Deaths_per_ML  Recovered_per_ML  \\\n",
       "Clust_mem                                                                  \n",
       "0                  0.0224     1562.9449        33.7694         1087.7581   \n",
       "1                  0.0181    16549.0857       229.6818        12688.9369   \n",
       "2                  0.1175     4727.3580       425.3985         3178.1901   \n",
       "\n",
       "           Active_per_ML  Critical_per_ML  Tests_per_ML  \n",
       "Clust_mem                                                \n",
       "0               441.4174           5.2403    62077.7402  \n",
       "1              3630.4671          43.3510   107780.1900  \n",
       "2              1070.9101           2.0925    76792.5291  "
      ]
     },
     "execution_count": 53,
     "metadata": {},
     "output_type": "execute_result"
    }
   ],
   "source": [
    "df_cluster_centers"
   ]
  },
  {
   "cell_type": "code",
   "execution_count": 54,
   "metadata": {},
   "outputs": [],
   "source": [
    "df_cluster_centers.to_csv(\"df_cluster_centers.csv\")"
   ]
  }
 ],
 "metadata": {
  "kernelspec": {
   "display_name": "Python 3",
   "language": "python",
   "name": "python3"
  },
  "language_info": {
   "codemirror_mode": {
    "name": "ipython",
    "version": 3
   },
   "file_extension": ".py",
   "mimetype": "text/x-python",
   "name": "python",
   "nbconvert_exporter": "python",
   "pygments_lexer": "ipython3",
   "version": "3.8.1"
  }
 },
 "nbformat": 4,
 "nbformat_minor": 4
}
